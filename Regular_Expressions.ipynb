{
  "cells": [
    {
      "cell_type": "markdown",
      "metadata": {
        "id": "view-in-github",
        "colab_type": "text"
      },
      "source": [
        "<a href=\"https://colab.research.google.com/github/sreeprem/Lexical-Processing/blob/main/Regular_Expressions.ipynb\" target=\"_parent\"><img src=\"https://colab.research.google.com/assets/colab-badge.svg\" alt=\"Open In Colab\"/></a>"
      ]
    },
    {
      "cell_type": "markdown",
      "metadata": {
        "id": "Qs5p4DV4wOVP"
      },
      "source": [
        "## Regular Expressions\n",
        "Regular expression is a set of characters, called as the pattern, which helps in finding substrings in a given string. The pattern is used to detect the substrings\n",
        "\n",
        "For example, suppose you have a dataset of customer reviews about your restaurant. Say, you want to extract the emojis from the reviews because they are a good predictor os the sentiment of the review.\n",
        "\n",
        "Take another example, the artificial assistants such as Siri, Google Now use information retrieval to give you better results. When you ask them for any query or ask them to search for something interesting on the screen, they look for common patterns such as emails, phone numbers, place names, date and time and so on. This is because then the assitant can automatically make a booking or ask you to call the resturant to make a booking.\n",
        "\n",
        "Regular expressions are very powerful tool in text processing. It will help you to clean and handle your text in a much better way."
      ]
    },
    {
      "cell_type": "markdown",
      "metadata": {
        "id": "ULOHg8bNwOVZ"
      },
      "source": [
        "### Let's import the regular expression library in python."
      ]
    },
    {
      "cell_type": "code",
      "execution_count": null,
      "metadata": {
        "id": "H46lBKnxwOVb"
      },
      "outputs": [],
      "source": [
        "import re"
      ]
    },
    {
      "cell_type": "markdown",
      "metadata": {
        "id": "U3Wmm04OwOVe"
      },
      "source": [
        "Let's do a quick search using a pattern."
      ]
    },
    {
      "cell_type": "code",
      "execution_count": null,
      "metadata": {
        "colab": {
          "base_uri": "https://localhost:8080/"
        },
        "id": "kF_x8g34wOVf",
        "outputId": "41904b36-83f0-4e76-9a5b-cdf4cc9da526"
      },
      "outputs": [
        {
          "output_type": "execute_result",
          "data": {
            "text/plain": [
              "<re.Match object; span=(0, 4), match='Ravi'>"
            ]
          },
          "metadata": {},
          "execution_count": 3
        }
      ],
      "source": [
        "re.search('Ravi', 'Ravi is an exceptional student!')"
      ]
    },
    {
      "cell_type": "code",
      "execution_count": null,
      "metadata": {
        "id": "K0HQwxdywOVi",
        "outputId": "98ad3e96-4ace-4810-aa44-127a5c9e812f"
      },
      "outputs": [
        {
          "name": "stdout",
          "output_type": "stream",
          "text": [
            "Ravi\n"
          ]
        }
      ],
      "source": [
        "# print output of re.search()\n",
        "match = re.search('Ravi', 'Ravi is an exceptional student!')\n",
        "print(match.group())"
      ]
    },
    {
      "cell_type": "markdown",
      "metadata": {
        "id": "SFF_VYvqwOVk"
      },
      "source": [
        "Let's define a function to match regular expression patterns"
      ]
    },
    {
      "cell_type": "code",
      "execution_count": null,
      "metadata": {
        "id": "0u06Pn33wOVl"
      },
      "outputs": [],
      "source": [
        "def find_pattern(text, patterns):\n",
        "    if re.search(patterns, text):\n",
        "        return re.search(patterns, text)\n",
        "    else:\n",
        "        return 'Not Found!'"
      ]
    },
    {
      "cell_type": "markdown",
      "metadata": {
        "id": "Bi_S6Ys7wOVm"
      },
      "source": [
        "### Quantifiers"
      ]
    },
    {
      "cell_type": "code",
      "execution_count": null,
      "metadata": {
        "colab": {
          "base_uri": "https://localhost:8080/"
        },
        "id": "kyJmLCYUwOVn",
        "outputId": "40a68e44-a5c2-4caf-887b-9d3db1e61fb3"
      },
      "outputs": [
        {
          "output_type": "stream",
          "name": "stdout",
          "text": [
            "<re.Match object; span=(0, 1), match='a'>\n",
            "<re.Match object; span=(0, 2), match='ab'>\n",
            "<re.Match object; span=(0, 3), match='abb'>\n"
          ]
        }
      ],
      "source": [
        "# '*': Zero or more\n",
        "print(find_pattern(\"ac\", \"ab*\"))\n",
        "print(find_pattern(\"abc\", \"ab*\"))\n",
        "print(find_pattern(\"abbc\", \"ab*\"))"
      ]
    },
    {
      "cell_type": "code",
      "execution_count": null,
      "metadata": {
        "colab": {
          "base_uri": "https://localhost:8080/"
        },
        "id": "pRXlBmfZwOVo",
        "outputId": "74f0b02c-0db4-4de2-84dd-9998e4d8d9b3"
      },
      "outputs": [
        {
          "output_type": "stream",
          "name": "stdout",
          "text": [
            "<re.Match object; span=(0, 1), match='a'>\n",
            "<re.Match object; span=(0, 2), match='ab'>\n",
            "<re.Match object; span=(0, 2), match='ab'>\n"
          ]
        }
      ],
      "source": [
        "# '?': Zero or one (tells whether a pattern is absent or present)\n",
        "print(find_pattern(\"ac\", \"ab?\"))\n",
        "print(find_pattern(\"abc\", \"ab?\"))\n",
        "print(find_pattern(\"abbc\", \"ab?\"))"
      ]
    },
    {
      "cell_type": "code",
      "execution_count": null,
      "metadata": {
        "id": "Yy7UdvsQwOVp",
        "outputId": "68fe6a50-34ce-4c8d-825f-91aae5e4545f"
      },
      "outputs": [
        {
          "name": "stdout",
          "output_type": "stream",
          "text": [
            "Not Found!\n",
            "<re.Match object; span=(0, 2), match='ab'>\n",
            "<re.Match object; span=(0, 3), match='abb'>\n"
          ]
        }
      ],
      "source": [
        "# '+': One or more\n",
        "print(find_pattern(\"ac\", \"ab+\"))\n",
        "print(find_pattern(\"abc\", \"ab+\"))\n",
        "print(find_pattern(\"abbc\", \"ab+\"))"
      ]
    },
    {
      "cell_type": "code",
      "execution_count": null,
      "metadata": {
        "id": "uV-iywIwwOVr",
        "outputId": "b3bf6c32-c0a2-4274-fe6c-6e06a821506e"
      },
      "outputs": [
        {
          "name": "stdout",
          "output_type": "stream",
          "text": [
            "<re.Match object; span=(0, 3), match='abb'>\n"
          ]
        }
      ],
      "source": [
        "# {n}: Matches if a character is present exactly n number of times\n",
        "print(find_pattern(\"abbc\", \"ab{2}\"))\n"
      ]
    },
    {
      "cell_type": "code",
      "execution_count": null,
      "metadata": {
        "colab": {
          "base_uri": "https://localhost:8080/"
        },
        "id": "Oy9oZrT-wOVs",
        "outputId": "3a846ebb-31e3-4145-cb62-7d6b68183356"
      },
      "outputs": [
        {
          "output_type": "stream",
          "name": "stdout",
          "text": [
            "<re.Match object; span=(1, 7), match='abbbbb'>\n",
            "Not Found!\n",
            "<re.Match object; span=(0, 1), match='a'>\n",
            "Not Found!\n"
          ]
        }
      ],
      "source": [
        "# {m,n}: Matches if a character is present from m to n number of times\n",
        "print(find_pattern(\"aabbbbbbc\", \"ab{3,5}\"))   # return true if 'b' is present 3-5 times\n",
        "print(find_pattern(\"aabbbbbbc\", \"ab{7,10}\"))  # return true if 'b' is present 7-10 times\n",
        "print(find_pattern(\"aabbbbbbc\", \"ab{,10}\"))   # return true if 'b' is present atmost 10 times\n",
        "print(find_pattern(\"aabbbbbbc\", \"ab{10,}\"))   # return true if 'b' is present from at least 10 times"
      ]
    },
    {
      "cell_type": "markdown",
      "metadata": {
        "id": "dadcCh98wOVt"
      },
      "source": [
        "### Anchors"
      ]
    },
    {
      "cell_type": "code",
      "execution_count": null,
      "metadata": {
        "colab": {
          "base_uri": "https://localhost:8080/"
        },
        "id": "_qmTwaJ3wOVt",
        "outputId": "bd75b93b-6598-44b9-e906-327a354aef72"
      },
      "outputs": [
        {
          "output_type": "stream",
          "name": "stdout",
          "text": [
            "<re.Match object; span=(0, 1), match='J'>\n",
            "Not Found!\n",
            "<re.Match object; span=(4, 5), match='a'>\n",
            "Not Found!\n"
          ]
        }
      ],
      "source": [
        "# '^': Indicates start of a string\n",
        "# '$': Indicates end of string\n",
        "\n",
        "print(find_pattern(\"James\", \"^J\"))   # return true if string starts with 'J'\n",
        "print(find_pattern(\"Pramod\", \"^J\"))  # return true if string starts with 'J'\n",
        "print(find_pattern(\"India\", \"a$\"))   # return true if string ends with 'c'\n",
        "print(find_pattern(\"Japan\", \"a$\"))   # return true if string ends with 'c'\n"
      ]
    },
    {
      "cell_type": "markdown",
      "metadata": {
        "id": "LE7qg87TwOVu"
      },
      "source": [
        "### Wildcard"
      ]
    },
    {
      "cell_type": "code",
      "execution_count": null,
      "metadata": {
        "id": "--t7REsbwOVu",
        "outputId": "ab859e71-3cfa-4af3-cb9c-d32bbc87ca93"
      },
      "outputs": [
        {
          "name": "stdout",
          "output_type": "stream",
          "text": [
            "<re.Match object; span=(0, 1), match='a'>\n",
            "<re.Match object; span=(0, 1), match='#'>\n"
          ]
        }
      ],
      "source": [
        "# '.': Matches any character\n",
        "print(find_pattern(\"a\", \".\"))\n",
        "print(find_pattern(\"#\", \".\"))\n"
      ]
    },
    {
      "cell_type": "markdown",
      "metadata": {
        "id": "Hdu8B51FwOVv"
      },
      "source": [
        "### Character sets"
      ]
    },
    {
      "cell_type": "code",
      "execution_count": null,
      "metadata": {
        "colab": {
          "base_uri": "https://localhost:8080/"
        },
        "id": "QceIGhGcwOVw",
        "outputId": "9aac1760-b20e-43a1-8c8e-161737e8cf23"
      },
      "outputs": [
        {
          "output_type": "stream",
          "name": "stdout",
          "text": [
            "<re.Match object; span=(0, 1), match='a'>\n",
            "<re.Match object; span=(0, 1), match='c'>\n"
          ]
        }
      ],
      "source": [
        "# Now we will look at '[' and ']'.\n",
        "# They're used for specifying a character class, which is a set of characters that you wish to match.\n",
        "# Characters can be listed individually as follows\n",
        "print(find_pattern(\"a\", \"[abc]\"))\n",
        "\n",
        "# Or a range of characters can be indicated by giving two characters and separating them by a '-'.\n",
        "print(find_pattern(\"c\", \"[a-c]\"))  # same as above"
      ]
    },
    {
      "cell_type": "code",
      "execution_count": null,
      "metadata": {
        "colab": {
          "base_uri": "https://localhost:8080/"
        },
        "id": "YAEOQ2b2wOVw",
        "outputId": "10a48e28-c7a6-4c70-ddca-4f437af878f5"
      },
      "outputs": [
        {
          "output_type": "stream",
          "name": "stdout",
          "text": [
            "Not Found!\n"
          ]
        }
      ],
      "source": [
        "# '^' is used inside character set to indicate complementary set\n",
        "print(find_pattern(\"a\", \"[^abc]\"))  # return true if neither of these is present - a,b or c"
      ]
    },
    {
      "cell_type": "markdown",
      "metadata": {
        "id": "XNMdLkMEwOVx"
      },
      "source": [
        "### Character sets\n",
        "| Pattern  | Matches                                                                                    |\n",
        "|----------|--------------------------------------------------------------------------------------------|\n",
        "| [abc]    | Matches either an a, b or c character                                                      |\n",
        "| [abcABC] | Matches either an a, A, b, B, c or C character                                             |\n",
        "| [a-z]    | Matches any characters between a and z, including a and z                                  |\n",
        "| [A-Z]    | Matches any characters between A and Z, including A and Z                                  |\n",
        "| [a-zA-Z] | Matches any characters between a and z, including a and z ignoring cases of the characters |\n",
        "| [0-9]    | Matches any character which is a number between 0 and 9                                    |"
      ]
    },
    {
      "cell_type": "markdown",
      "metadata": {
        "id": "dYh4dlnawOVx"
      },
      "source": [
        "### Meta sequences\n",
        "\n",
        "| Pattern  | Equivalent to    |\n",
        "|----------|------------------|\n",
        "| \\s       | [ \\t\\n\\r\\f\\v]    |\n",
        "| \\S       | [^ \\t\\n\\r\\f\\v]   |\n",
        "| \\d       | [0-9]            |\n",
        "| \\D       | [^0-9]           |\n",
        "| \\w       | [a-zA-Z0-9_]     |\n",
        "| \\W       | [^a-zA-Z0-9_]    |"
      ]
    },
    {
      "cell_type": "markdown",
      "metadata": {
        "id": "xrTvZVSfwOVy"
      },
      "source": [
        "### Greedy vs non-greedy regex"
      ]
    },
    {
      "cell_type": "code",
      "execution_count": null,
      "metadata": {
        "colab": {
          "base_uri": "https://localhost:8080/"
        },
        "id": "u4QkWe2TwOVy",
        "outputId": "6a225104-7ed2-4663-c946-21771398a328"
      },
      "outputs": [
        {
          "output_type": "stream",
          "name": "stdout",
          "text": [
            "<re.Match object; span=(1, 7), match='abbbbb'>\n"
          ]
        }
      ],
      "source": [
        "print(find_pattern(\"aabbbbbb\", \"ab{3,5}\")) # return if a is followed by b 3-5 times GREEDY"
      ]
    },
    {
      "cell_type": "code",
      "execution_count": null,
      "metadata": {
        "colab": {
          "base_uri": "https://localhost:8080/"
        },
        "id": "326cNNBSwOVy",
        "outputId": "805b6e15-b450-48c8-bf51-1590672749b8"
      },
      "outputs": [
        {
          "output_type": "stream",
          "name": "stdout",
          "text": [
            "<re.Match object; span=(1, 5), match='abbb'>\n"
          ]
        }
      ],
      "source": [
        "print(find_pattern(\"aabbbbbb\", \"ab{3,5}?\")) # return if a is followed by b 3-5 times GREEDY"
      ]
    },
    {
      "cell_type": "code",
      "execution_count": null,
      "metadata": {
        "colab": {
          "base_uri": "https://localhost:8080/"
        },
        "id": "mb0nkqNswOVz",
        "outputId": "922856b5-60c3-4598-91e8-54e36de3f4c2"
      },
      "outputs": [
        {
          "output_type": "stream",
          "name": "stdout",
          "text": [
            "<re.Match object; span=(0, 35), match='<HTML><TITLE>My Page</TITLE></HTML>'>\n"
          ]
        }
      ],
      "source": [
        "# Example of HTML code\n",
        "print(re.search(\"<.*>\",\"<HTML><TITLE>My Page</TITLE></HTML>\"))"
      ]
    },
    {
      "cell_type": "code",
      "execution_count": null,
      "metadata": {
        "colab": {
          "base_uri": "https://localhost:8080/"
        },
        "id": "LWmR765lwOVz",
        "outputId": "4414eebd-db9c-4bd5-9585-5e235aed251c"
      },
      "outputs": [
        {
          "output_type": "stream",
          "name": "stdout",
          "text": [
            "<re.Match object; span=(0, 6), match='<HTML>'>\n"
          ]
        }
      ],
      "source": [
        "# Example of HTML code\n",
        "print(re.search(\"<.*?>\",\"<HTML><TITLE>My Page</TITLE></HTML>\"))"
      ]
    },
    {
      "cell_type": "markdown",
      "metadata": {
        "id": "IJ1mPdLjwOV0"
      },
      "source": [
        "### The five most important re functions that you would be required to use most of the times are\n",
        "\n",
        "match() Determine if the RE matches at the beginning of the string\n",
        "\n",
        "search() Scan through a string, looking for any location where this RE matches\n",
        "\n",
        "finall() Find all the substrings where the RE matches, and return them as a list\n",
        "\n",
        "finditer() Find all substrings where RE matches and return them as asn iterator\n",
        "\n",
        "sub() Find all substrings where the RE matches and substitute them with the given string"
      ]
    },
    {
      "cell_type": "code",
      "execution_count": null,
      "metadata": {
        "id": "n5dvz-P-wOV0"
      },
      "outputs": [],
      "source": [
        "# - this function uses the re.match() and let's see how it differs from re.search()\n",
        "def match_pattern(text, patterns):\n",
        "    if re.match(patterns, text):\n",
        "        return re.match(patterns, text)\n",
        "    else:\n",
        "        return ('Not found!')"
      ]
    },
    {
      "cell_type": "code",
      "execution_count": null,
      "metadata": {
        "colab": {
          "base_uri": "https://localhost:8080/"
        },
        "id": "p2PS2FiKwOV1",
        "outputId": "0ca75e62-f309-4158-ab50-be6c56ffcb38"
      },
      "outputs": [
        {
          "output_type": "stream",
          "name": "stdout",
          "text": [
            "<re.Match object; span=(1, 3), match='bb'>\n"
          ]
        }
      ],
      "source": [
        "print(find_pattern(\"abbc\", \"b+\"))"
      ]
    },
    {
      "cell_type": "code",
      "execution_count": null,
      "metadata": {
        "colab": {
          "base_uri": "https://localhost:8080/"
        },
        "id": "ByU44UmCwOV1",
        "outputId": "6ea38149-0633-4f75-b706-74253b91fc7d"
      },
      "outputs": [
        {
          "output_type": "stream",
          "name": "stdout",
          "text": [
            "Not found!\n"
          ]
        }
      ],
      "source": [
        "print(match_pattern(\"abbc\", \"b+\"))"
      ]
    },
    {
      "cell_type": "code",
      "execution_count": null,
      "metadata": {
        "colab": {
          "base_uri": "https://localhost:8080/"
        },
        "id": "prQS8JAjwOV2",
        "outputId": "99018882-503f-4088-ea18-b797e7f27ec7"
      },
      "outputs": [
        {
          "output_type": "stream",
          "name": "stdout",
          "text": [
            "21 Ramakrishna Rd\n"
          ]
        }
      ],
      "source": [
        "## Example usage of the sub() function. Replace Road with rd.\n",
        "\n",
        "street = '21 Ramakrishna Road'\n",
        "print(re.sub('Road', 'Rd', street))"
      ]
    },
    {
      "cell_type": "code",
      "execution_count": null,
      "metadata": {
        "colab": {
          "base_uri": "https://localhost:8080/"
        },
        "id": "yAl6MyDEwOV2",
        "outputId": "2d637d1b-0b23-4625-f98a-0151ba68a0d4"
      },
      "outputs": [
        {
          "output_type": "stream",
          "name": "stdout",
          "text": [
            "21 Rd Rd\n"
          ]
        }
      ],
      "source": [
        "print(re.sub('R\\w+', 'Rd', street))"
      ]
    },
    {
      "cell_type": "code",
      "execution_count": null,
      "metadata": {
        "colab": {
          "base_uri": "https://localhost:8080/"
        },
        "id": "ZnG7zYqvwOV3",
        "outputId": "9c54ecbc-ce85-4399-f7cb-5c5c8f0700c9"
      },
      "outputs": [
        {
          "output_type": "stream",
          "name": "stdout",
          "text": [
            "START - 12END - 20\n",
            "START - 42END - 50\n"
          ]
        }
      ],
      "source": [
        "## Example usage of finditer(). Find all occurrences of word Festival in given sentence\n",
        "\n",
        "text = 'Diwali is a festival of lights, Holi is a festival of colors!'\n",
        "pattern = 'festival'\n",
        "for match in re.finditer(pattern, text):\n",
        "    print('START -', match.start(), end=\"\")\n",
        "    print('END -', match.end())"
      ]
    },
    {
      "cell_type": "code",
      "execution_count": null,
      "metadata": {
        "colab": {
          "base_uri": "https://localhost:8080/"
        },
        "id": "O71n6eoDwOV3",
        "outputId": "89d36067-50ba-44a9-87a1-cfe7aeefbe24"
      },
      "outputs": [
        {
          "output_type": "stream",
          "name": "stdout",
          "text": [
            "[('2017', '10', '28')]\n"
          ]
        }
      ],
      "source": [
        "# Example usage of findall(). In the given URL find all dates\n",
        "url = \"http://www.telegraph.co.uk/formula-1/2017/10/28/mexican-grand-prix-2017-time-does-start-tv-channel-odds-lewisl/2017/05/12\"\n",
        "date_regex = '/(\\d{4})/(\\d{1,2})/(\\d{1,2})/'\n",
        "print(re.findall(date_regex, url))"
      ]
    },
    {
      "cell_type": "code",
      "execution_count": null,
      "metadata": {
        "colab": {
          "base_uri": "https://localhost:8080/"
        },
        "id": "8Hyj8nAowOV3",
        "outputId": "5ab4cff8-98ac-40b7-aa17-4f3a2b0b1b51"
      },
      "outputs": [
        {
          "output_type": "stream",
          "name": "stdout",
          "text": [
            "/2017/10/28/\n"
          ]
        }
      ],
      "source": [
        "## Exploring Groups\n",
        "m1 = re.search(date_regex, url)\n",
        "print(m1.group())  ## print the matched group"
      ]
    },
    {
      "cell_type": "code",
      "execution_count": null,
      "metadata": {
        "colab": {
          "base_uri": "https://localhost:8080/"
        },
        "id": "mnv8q-StwOV4",
        "outputId": "b42c8ffb-3f51-4c7e-e4b2-5040ffcda78b"
      },
      "outputs": [
        {
          "output_type": "stream",
          "name": "stdout",
          "text": [
            "2017\n"
          ]
        }
      ],
      "source": [
        "print(m1.group(1)) # - Print first group"
      ]
    },
    {
      "cell_type": "code",
      "execution_count": null,
      "metadata": {
        "colab": {
          "base_uri": "https://localhost:8080/"
        },
        "id": "Gq6W2tmKwOV4",
        "outputId": "0c150ea6-e27c-4583-ea53-c94b2960d50f"
      },
      "outputs": [
        {
          "output_type": "stream",
          "name": "stdout",
          "text": [
            "10\n"
          ]
        }
      ],
      "source": [
        "print(m1.group(2)) # - Print second group"
      ]
    },
    {
      "cell_type": "code",
      "execution_count": null,
      "metadata": {
        "colab": {
          "base_uri": "https://localhost:8080/"
        },
        "id": "K0UpTh0OwOV6",
        "outputId": "451d3699-67be-4f72-93c8-eac1bde78819"
      },
      "outputs": [
        {
          "output_type": "stream",
          "name": "stdout",
          "text": [
            "28\n"
          ]
        }
      ],
      "source": [
        "print(m1.group(3)) # - Print third group"
      ]
    },
    {
      "cell_type": "code",
      "execution_count": null,
      "metadata": {
        "colab": {
          "base_uri": "https://localhost:8080/"
        },
        "id": "t3IXBqV_wOV6",
        "outputId": "601f662b-5d16-43a7-a2e9-2d1b30530adc"
      },
      "outputs": [
        {
          "output_type": "stream",
          "name": "stdout",
          "text": [
            "/2017/10/28/\n"
          ]
        }
      ],
      "source": [
        "print(m1.group(0)) # - Print zero or the default group"
      ]
    },
    {
      "cell_type": "code",
      "source": [],
      "metadata": {
        "id": "z6HIBRDv-pEd"
      },
      "execution_count": null,
      "outputs": []
    }
  ],
  "metadata": {
    "kernelspec": {
      "display_name": "Python 3",
      "language": "python",
      "name": "python3"
    },
    "language_info": {
      "codemirror_mode": {
        "name": "ipython",
        "version": 3
      },
      "file_extension": ".py",
      "mimetype": "text/x-python",
      "name": "python",
      "nbconvert_exporter": "python",
      "pygments_lexer": "ipython3",
      "version": "3.7.0"
    },
    "colab": {
      "provenance": [],
      "include_colab_link": true
    }
  },
  "nbformat": 4,
  "nbformat_minor": 0
}