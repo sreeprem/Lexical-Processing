{
  "nbformat": 4,
  "nbformat_minor": 0,
  "metadata": {
    "colab": {
      "provenance": [],
      "authorship_tag": "ABX9TyNiPLg5uisxYE5B5mY9dtS1",
      "include_colab_link": true
    },
    "kernelspec": {
      "name": "python3",
      "display_name": "Python 3"
    },
    "language_info": {
      "name": "python"
    }
  },
  "cells": [
    {
      "cell_type": "markdown",
      "metadata": {
        "id": "view-in-github",
        "colab_type": "text"
      },
      "source": [
        "<a href=\"https://colab.research.google.com/github/sreeprem/Lexical-Processing/blob/main/unicode.ipynb\" target=\"_parent\"><img src=\"https://colab.research.google.com/assets/colab-badge.svg\" alt=\"Open In Colab\"/></a>"
      ]
    },
    {
      "cell_type": "code",
      "execution_count": null,
      "metadata": {
        "colab": {
          "base_uri": "https://localhost:8080/"
        },
        "id": "YYi-D_kmvcGG",
        "outputId": "9f540976-332f-45e5-906a-bde53edac021"
      },
      "outputs": [
        {
          "output_type": "stream",
          "name": "stdout",
          "text": [
            "Default string:  ₹50 \n",
            " Type of string <class 'str'> \n",
            "\n",
            "Encoded to UTF-8:  b'\\xe2\\x82\\xb950' \n",
            " Type of string <class 'bytes'> \n",
            "\n",
            "Decoded from UTF-8:  ₹50 \n",
            " Type of string <class 'str'> \n",
            "\n"
          ]
        }
      ],
      "source": [
        "amount = u\"₹50\"\n",
        "print('Default string: ', amount, '\\n', 'Type of string', type(amount), '\\n')\n",
        "\n",
        "# encode to UTF-8 byte format\n",
        "amount_encoded = amount.encode('utf-8')\n",
        "print('Encoded to UTF-8: ', amount_encoded, '\\n', 'Type of string', type(amount_encoded), '\\n')\n",
        "\n",
        "\n",
        "# sometime later in another computer...\n",
        "# decode from UTF-8 byte format\n",
        "amount_decoded = amount_encoded.decode('utf-8')\n",
        "print('Decoded from UTF-8: ', amount_decoded, '\\n', 'Type of string', type(amount_decoded), '\\n')"
      ]
    },
    {
      "cell_type": "code",
      "source": [],
      "metadata": {
        "id": "eAHo1lP7vhi6"
      },
      "execution_count": null,
      "outputs": []
    }
  ]
}